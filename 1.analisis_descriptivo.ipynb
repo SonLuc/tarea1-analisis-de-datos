{
 "cells": [
  {
   "cell_type": "code",
   "execution_count": 1,
   "metadata": {},
   "outputs": [],
   "source": [
    "import pandas as pd\n",
    "from modules import descriptivo as des"
   ]
  },
  {
   "cell_type": "code",
   "execution_count": 2,
   "metadata": {},
   "outputs": [],
   "source": [
    "df = pd.read_csv('./data/data_lol.csv', index_col=0)"
   ]
  },
  {
   "cell_type": "code",
   "execution_count": 3,
   "metadata": {},
   "outputs": [],
   "source": [
    "# Columnas para analizar (Agregar mas si es necesario)\n",
    "blueGoldDiff = df['blueGoldDiff']\n",
    "blueExperienceDiff = df['blueExperienceDiff']\n",
    "blueKills = df['blueKills']\n",
    "blueDeaths = df['blueDeaths']\n",
    "blueAssists = df['blueAssists']\n",
    "blueEliteMonster = df['blueEliteMonsters']\n",
    "blueTowersDestroyed = df['blueTowersDestroyed']\n",
    "blueAvgLevel = df['blueAvgLevel']"
   ]
  },
  {
   "cell_type": "code",
   "execution_count": 4,
   "metadata": {},
   "outputs": [],
   "source": [
    "columnas = [blueGoldDiff, blueExperienceDiff, blueKills, blueDeaths, blueAssists, blueEliteMonster, blueTowersDestroyed, blueAvgLevel]\n",
    "tot_col = len(columnas)"
   ]
  },
  {
   "cell_type": "code",
   "execution_count": 16,
   "metadata": {},
   "outputs": [
    {
     "data": {
      "text/plain": [
       "[82.53, 35.755, 6.4675, 6.2, 7.0, 0.5525, 0.055, 6.9094999999999995]"
      ]
     },
     "execution_count": 16,
     "metadata": {},
     "output_type": "execute_result"
    }
   ],
   "source": [
    "des.media(columnas, tot_col)"
   ]
  },
  {
   "cell_type": "code",
   "execution_count": 15,
   "metadata": {},
   "outputs": [
    {
     "data": {
      "text/plain": [
       "[92.5, -41.0, 6.0, 6.0, 6.0, 0.0, 0.0, 7.0]"
      ]
     },
     "execution_count": 15,
     "metadata": {},
     "output_type": "execute_result"
    }
   ],
   "source": [
    "des.mediana(columnas, tot_col)"
   ]
  },
  {
   "cell_type": "code",
   "execution_count": 7,
   "metadata": {},
   "outputs": [
    {
     "data": {
      "text/plain": [
       "[2569, 1638, 6, 5, 6, 0, 0, 7.0]"
      ]
     },
     "execution_count": 7,
     "metadata": {},
     "output_type": "execute_result"
    }
   ],
   "source": [
    "des.moda(columnas, tot_col)"
   ]
  },
  {
   "cell_type": "code",
   "execution_count": 17,
   "metadata": {},
   "outputs": [
    {
     "data": {
      "text/plain": [
       "[5636745.5841,\n",
       " 3482862.6349750008,\n",
       " 9.17394375,\n",
       " 9.145,\n",
       " 17.765,\n",
       " 0.40724374999999996,\n",
       " 0.061975000000000016,\n",
       " 0.09350975000000006]"
      ]
     },
     "execution_count": 17,
     "metadata": {},
     "output_type": "execute_result"
    }
   ],
   "source": [
    "des.varianza(columnas, tot_col)"
   ]
  },
  {
   "cell_type": "code",
   "execution_count": 9,
   "metadata": {},
   "outputs": [
    {
     "data": {
      "text/plain": [
       "[2374.183140387447,\n",
       " 1866.2429196047874,\n",
       " 3.0288518864414615,\n",
       " 3.024070105007488,\n",
       " 4.21485468314152,\n",
       " 0.6381565246865379,\n",
       " 0.24894778569009207,\n",
       " 0.3057936395676013]"
      ]
     },
     "execution_count": 9,
     "metadata": {},
     "output_type": "execute_result"
    }
   ],
   "source": [
    "des.desviacion(columnas, tot_col)"
   ]
  },
  {
   "cell_type": "code",
   "execution_count": 10,
   "metadata": {},
   "outputs": [
    {
     "data": {
      "text/plain": [
       "[[6907, 4718, 17, 18, 25, 2, 2, 7.6], [-8472, -8242, 0, 0, 0, 0, 0, 5.4]]"
      ]
     },
     "execution_count": 10,
     "metadata": {},
     "output_type": "execute_result"
    }
   ],
   "source": [
    "des.maximo_minimo(columnas, tot_col)"
   ]
  },
  {
   "cell_type": "code",
   "execution_count": 11,
   "metadata": {},
   "outputs": [
    {
     "data": {
      "text/plain": [
       "[15379, 12960, 17, 18, 25, 2, 2, 2.1999999999999993]"
      ]
     },
     "execution_count": 11,
     "metadata": {},
     "output_type": "execute_result"
    }
   ],
   "source": [
    "des.rango(columnas, tot_col)"
   ]
  }
 ],
 "metadata": {
  "kernelspec": {
   "display_name": "Python 3",
   "language": "python",
   "name": "python3"
  },
  "language_info": {
   "codemirror_mode": {
    "name": "ipython",
    "version": 3
   },
   "file_extension": ".py",
   "mimetype": "text/x-python",
   "name": "python",
   "nbconvert_exporter": "python",
   "pygments_lexer": "ipython3",
   "version": "3.10.4"
  },
  "orig_nbformat": 4
 },
 "nbformat": 4,
 "nbformat_minor": 2
}
