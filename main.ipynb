{
 "cells": [
  {
   "cell_type": "code",
   "execution_count": 2,
   "metadata": {},
   "outputs": [],
   "source": [
    "import pandas as pd\n",
    "import numpy as np\n",
    "import matplotlib.pyplot as plt"
   ]
  },
  {
   "cell_type": "code",
   "execution_count": 3,
   "metadata": {},
   "outputs": [],
   "source": [
    "df = pd.read_csv('./data/data_lol.csv', index_col=0)"
   ]
  },
  {
   "cell_type": "code",
   "execution_count": 21,
   "metadata": {},
   "outputs": [],
   "source": [
    "# Columnas para analizar (Agregar mas si es necesario)\n",
    "blueGoldDiff = df['blueGoldDiff']\n",
    "blueExperienceDiff = df['blueExperienceDiff']\n",
    "blueKills = df['blueKills']\n",
    "blueDeaths = df['blueDeaths']\n",
    "blueAssists = df['blueAssists']\n",
    "blueEliteMonster = df['blueEliteMonsters']\n",
    "blueTowersDestroyed = df['blueTowersDestroyed']\n",
    "blueAvgLevel = df['blueAvgLevel']\n",
    "\n",
    "#[[blueGoldDiff], [blueExperienceDiff], [blueKills], [blueDeaths], [blueAssits], [blueEliteMonster], [blueTowersDestroyed], [blueAvgLevel]]"
   ]
  },
  {
   "cell_type": "code",
   "execution_count": 36,
   "metadata": {},
   "outputs": [],
   "source": [
    "columnas = [blueGoldDiff, blueExperienceDiff, blueKills, blueDeaths, blueAssists, blueEliteMonster, blueTowersDestroyed, blueAvgLevel]\n",
    "tot_col = len(columnas)"
   ]
  },
  {
   "cell_type": "code",
   "execution_count": 46,
   "metadata": {},
   "outputs": [
    {
     "name": "stdout",
     "output_type": "stream",
     "text": [
      "El promedio de blueGoldDiff es: 82.53\n",
      "El promedio de blueExperienceDiff es: 35.755\n",
      "El promedio de blueKills es: 6.4675\n",
      "El promedio de blueDeaths es: 6.2\n",
      "El promedio de blueAssists es: 7.0\n",
      "El promedio de blueEliteMonsters es: 0.5525\n",
      "El promedio de blueTowersDestroyed es: 0.055\n",
      "El promedio de blueAvgLevel es: 6.9094999999999995\n"
     ]
    }
   ],
   "source": [
    "def media(columnas, tot_col):\n",
    "    for i in range(tot_col):\n",
    "        print(f'El promedio de {columnas[i].name} es: {np.mean(columnas[i])}')\n",
    "\n",
    "media(columnas, tot_col)\n",
    "    "
   ]
  },
  {
   "cell_type": "code",
   "execution_count": 47,
   "metadata": {},
   "outputs": [
    {
     "name": "stdout",
     "output_type": "stream",
     "text": [
      "La mediana de blueGoldDiff es: 92.5\n",
      "La mediana de blueExperienceDiff es: -41.0\n",
      "La mediana de blueKills es: 6.0\n",
      "La mediana de blueDeaths es: 6.0\n",
      "La mediana de blueAssists es: 6.0\n",
      "La mediana de blueEliteMonsters es: 0.0\n",
      "La mediana de blueTowersDestroyed es: 0.0\n",
      "La mediana de blueAvgLevel es: 7.0\n"
     ]
    }
   ],
   "source": [
    "def mediana(columnas, tot_col):\n",
    "    for i in range(tot_col):\n",
    "        print(f'La mediana de {columnas[i].name} es: {np.median(columnas[i])}')\n",
    "        \n",
    "mediana(columnas, tot_col)"
   ]
  },
  {
   "cell_type": "code",
   "execution_count": 53,
   "metadata": {},
   "outputs": [
    {
     "name": "stdout",
     "output_type": "stream",
     "text": [
      "La moda o valor que mas se repite en la columna blueGoldDiff es: 2569\n",
      "La moda o valor que mas se repite en la columna blueExperienceDiff es: 1638\n",
      "La moda o valor que mas se repite en la columna blueKills es: 6\n",
      "La moda o valor que mas se repite en la columna blueDeaths es: 5\n",
      "La moda o valor que mas se repite en la columna blueAssists es: 6\n",
      "La moda o valor que mas se repite en la columna blueEliteMonsters es: 0\n",
      "La moda o valor que mas se repite en la columna blueTowersDestroyed es: 0\n",
      "La moda o valor que mas se repite en la columna blueAvgLevel es: 7.0\n"
     ]
    }
   ],
   "source": [
    "import statistics as st\n",
    "\n",
    "def moda(columnas, tot_col):\n",
    "    for i in range(tot_col):\n",
    "        print(f'La moda o valor que mas se repite en la columna {columnas[i].name} es: {st.mode(columnas[i])}')\n",
    "        \n",
    "moda(columnas, tot_col)"
   ]
  },
  {
   "cell_type": "code",
   "execution_count": 56,
   "metadata": {},
   "outputs": [
    {
     "name": "stdout",
     "output_type": "stream",
     "text": [
      "La varianza de blueGoldDiff es: 5636745.5841\n",
      "La varianza de blueExperienceDiff es: 3482862.6349750008\n",
      "La varianza de blueKills es: 9.17394375\n",
      "La varianza de blueDeaths es: 9.145\n",
      "La varianza de blueAssists es: 17.765\n",
      "La varianza de blueEliteMonsters es: 0.40724374999999996\n",
      "La varianza de blueTowersDestroyed es: 0.061975000000000016\n",
      "La varianza de blueAvgLevel es: 0.09350975000000006\n"
     ]
    }
   ],
   "source": [
    "def varianza(columnas, tot_col):\n",
    "    for i in range(tot_col):\n",
    "        print(f'La varianza de {columnas[i].name} es: {np.var(columnas[i])}')\n",
    "        \n",
    "varianza(columnas, tot_col)"
   ]
  },
  {
   "cell_type": "code",
   "execution_count": 1,
   "metadata": {},
   "outputs": [],
   "source": [
    "def desviacion(columnas, tot_col):\n",
    "    for i in range(tot_col):\n",
    "        print(f'La desviacion estandar de {columnas[i].name} es: {np.std(columnas[i])}')\n",
    "\n",
    "desviacion(columnas, tot_col)"
   ]
  }
 ],
 "metadata": {
  "kernelspec": {
   "display_name": "Python 3",
   "language": "python",
   "name": "python3"
  },
  "language_info": {
   "codemirror_mode": {
    "name": "ipython",
    "version": 3
   },
   "file_extension": ".py",
   "mimetype": "text/x-python",
   "name": "python",
   "nbconvert_exporter": "python",
   "pygments_lexer": "ipython3",
   "version": "3.11.3"
  },
  "orig_nbformat": 4
 },
 "nbformat": 4,
 "nbformat_minor": 2
}
