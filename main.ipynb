{
 "cells": [
  {
   "cell_type": "code",
   "execution_count": 1,
   "metadata": {},
   "outputs": [],
   "source": [
    "import pandas as pd\n",
    "import numpy as np\n",
    "import matplotlib.pyplot as plt"
   ]
  },
  {
   "cell_type": "code",
   "execution_count": 2,
   "metadata": {},
   "outputs": [],
   "source": [
    "df = pd.read_csv('./data/data_lol.csv', index_col=0)"
   ]
  },
  {
   "cell_type": "markdown",
   "metadata": {},
   "source": [
    "# 1. Análisis preliminar de los datos"
   ]
  },
  {
   "cell_type": "code",
   "execution_count": 23,
   "metadata": {},
   "outputs": [],
   "source": [
    "# Columnas para analizar (Agregar mas si es necesario)\n",
    "blueWins= df['blueWins']\n",
    "blueGoldDiff = df['blueGoldDiff']\n",
    "blueExperienceDiff = df['blueExperienceDiff']\n",
    "blueKills = df['blueKills']\n",
    "blueDeaths = df['blueDeaths']\n",
    "blueAssists = df['blueAssists']\n",
    "blueEliteMonster = df['blueEliteMonsters']\n",
    "blueTowersDestroyed = df['blueTowersDestroyed']\n",
    "blueAvgLevel = df['blueAvgLevel']\n",
    "\n",
    "#[[blueGoldDiff], [blueExperienceDiff], [blueKills], [blueDeaths], [blueAssits], [blueEliteMonster], [blueTowersDestroyed], [blueAvgLevel]]"
   ]
  },
  {
   "cell_type": "code",
   "execution_count": null,
   "metadata": {},
   "outputs": [],
   "source": [
    "def media(columnas):\n",
    "    tot_col\n",
    "\n",
    "\n",
    "media([\n",
    "    blueWins,\n",
    "    blueGoldDiff,\n",
    "    blueExperienceDiff,\n",
    "    blueKills,\n",
    "    blueDeaths,\n",
    "    blueAssists,\n",
    "    blueEliteMonster\n",
    "    blueTowersDestroyed,\n",
    "    blueAvgLevel\n",
    "])"
   ]
  }
 ],
 "metadata": {
  "kernelspec": {
   "display_name": "Python 3",
   "language": "python",
   "name": "python3"
  },
  "language_info": {
   "codemirror_mode": {
    "name": "ipython",
    "version": 3
   },
   "file_extension": ".py",
   "mimetype": "text/x-python",
   "name": "python",
   "nbconvert_exporter": "python",
   "pygments_lexer": "ipython3",
   "version": "3.11.3"
  },
  "orig_nbformat": 4
 },
 "nbformat": 4,
 "nbformat_minor": 2
}
